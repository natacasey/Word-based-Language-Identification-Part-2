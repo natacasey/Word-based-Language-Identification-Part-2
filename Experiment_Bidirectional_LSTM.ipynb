{
 "cells": [
  {
   "cell_type": "code",
   "execution_count": 1,
   "metadata": {},
   "outputs": [],
   "source": [
    "#loading the packages\n",
    "import pandas as pd\n",
    "import json\n",
    "import matplotlib.pyplot as plt\n",
    "import warnings\n",
    "warnings.filterwarnings('ignore')\n",
    "import spacy\n",
    "from collections import Counter\n",
    "import re\n",
    "import numpy as np\n",
    "from sklearn.linear_model import LogisticRegression\n",
    "from sklearn.feature_extraction.text import TfidfVectorizer\n",
    "from sklearn.model_selection import StratifiedKFold\n",
    "from sklearn.metrics import precision_score, recall_score, f1_score\n",
    "from sklearn.multiclass import OneVsRestClassifier\n",
    "from sklearn.svm import SVC\n",
    "import time\n",
    "from vaderSentiment.vaderSentiment import SentimentIntensityAnalyzer\n",
    "import pandas as pd\n",
    "import numpy as np\n",
    "from sklearn.linear_model import LogisticRegression\n",
    "from sklearn.feature_extraction.text import TfidfVectorizer\n",
    "from sklearn.model_selection import StratifiedKFold\n",
    "from sklearn.metrics import precision_score, recall_score, f1_score\n",
    "import warnings\n",
    "warnings.filterwarnings('ignore')\n",
    "from sklearn import svm\n",
    "from xgboost import XGBClassifier\n",
    "from keras import regularizers\n",
    "from keras.layers import Embedding\n",
    "from keras.layers import LSTM\n",
    "from keras.models import Sequential\n",
    "from keras.layers import Bidirectional\n",
    "from keras.layers import Flatten, Dense, Dropout,SpatialDropout1D, Activation\n",
    "from keras.regularizers import l2\n",
    "from sklearn.metrics import classification_report, confusion_matrix\n",
    "from sklearn.model_selection import train_test_split\n",
    "from keras.utils import np_utils\n",
    "from sklearn import preprocessing\n",
    "from sklearn.preprocessing import LabelEncoder\n",
    "import tensorflow as tf\n",
    "from tensorflow import keras\n",
    "from keras.preprocessing.text import Tokenizer \n",
    "from keras.preprocessing.sequence import pad_sequences\n",
    "from keras.utils import np_utils"
   ]
  },
  {
   "cell_type": "code",
   "execution_count": 44,
   "metadata": {},
   "outputs": [],
   "source": [
    "#loading the data preprocessed accounting for linguistic nuances\n",
    "train_df=pd.read_excel('train_df_clean.xlsx')"
   ]
  },
  {
   "cell_type": "code",
   "execution_count": 45,
   "metadata": {},
   "outputs": [
    {
     "data": {
      "text/html": [
       "<div>\n",
       "<style scoped>\n",
       "    .dataframe tbody tr th:only-of-type {\n",
       "        vertical-align: middle;\n",
       "    }\n",
       "\n",
       "    .dataframe tbody tr th {\n",
       "        vertical-align: top;\n",
       "    }\n",
       "\n",
       "    .dataframe thead th {\n",
       "        text-align: right;\n",
       "    }\n",
       "</style>\n",
       "<table border=\"1\" class=\"dataframe\">\n",
       "  <thead>\n",
       "    <tr style=\"text-align: right;\">\n",
       "      <th></th>\n",
       "      <th>review_id</th>\n",
       "      <th>product_id</th>\n",
       "      <th>reviewer_id</th>\n",
       "      <th>stars</th>\n",
       "      <th>review_body</th>\n",
       "      <th>review_title</th>\n",
       "      <th>language</th>\n",
       "      <th>product_category</th>\n",
       "    </tr>\n",
       "  </thead>\n",
       "  <tbody>\n",
       "    <tr>\n",
       "      <th>0</th>\n",
       "      <td>fr_0112905</td>\n",
       "      <td>product_fr_0620743</td>\n",
       "      <td>reviewer_fr_0310864</td>\n",
       "      <td>1</td>\n",
       "      <td>Colis bien reçus avec le boîtier du jeu ouvert...</td>\n",
       "      <td>Commandé ailleurs si vous voulez des colis com...</td>\n",
       "      <td>fr</td>\n",
       "      <td>video_games</td>\n",
       "    </tr>\n",
       "    <tr>\n",
       "      <th>1</th>\n",
       "      <td>fr_0345365</td>\n",
       "      <td>product_fr_0942745</td>\n",
       "      <td>reviewer_fr_0244013</td>\n",
       "      <td>1</td>\n",
       "      <td>Suite à une vérification, je vous informe que ...</td>\n",
       "      <td>COMMANDE NON RECUE</td>\n",
       "      <td>fr</td>\n",
       "      <td>office_product</td>\n",
       "    </tr>\n",
       "    <tr>\n",
       "      <th>2</th>\n",
       "      <td>fr_0474170</td>\n",
       "      <td>product_fr_0183830</td>\n",
       "      <td>reviewer_fr_0816879</td>\n",
       "      <td>1</td>\n",
       "      <td>C'est un produit de piètre qualité sur quatre,...</td>\n",
       "      <td>Plastique sans aucune résistance !</td>\n",
       "      <td>fr</td>\n",
       "      <td>automotive</td>\n",
       "    </tr>\n",
       "    <tr>\n",
       "      <th>3</th>\n",
       "      <td>fr_0084156</td>\n",
       "      <td>product_fr_0195761</td>\n",
       "      <td>reviewer_fr_0933238</td>\n",
       "      <td>1</td>\n",
       "      <td>N'ont pas résistés. Piètre qualité</td>\n",
       "      <td>séparateur d'orteils</td>\n",
       "      <td>fr</td>\n",
       "      <td>sports</td>\n",
       "    </tr>\n",
       "    <tr>\n",
       "      <th>4</th>\n",
       "      <td>fr_0893613</td>\n",
       "      <td>product_fr_0077995</td>\n",
       "      <td>reviewer_fr_0492122</td>\n",
       "      <td>1</td>\n",
       "      <td>Filament de qualité mais pas bien embobiné, ré...</td>\n",
       "      <td>ça coince, ça coince... que des problemes</td>\n",
       "      <td>fr</td>\n",
       "      <td>industrial_supplies</td>\n",
       "    </tr>\n",
       "    <tr>\n",
       "      <th>...</th>\n",
       "      <td>...</td>\n",
       "      <td>...</td>\n",
       "      <td>...</td>\n",
       "      <td>...</td>\n",
       "      <td>...</td>\n",
       "      <td>...</td>\n",
       "      <td>...</td>\n",
       "      <td>...</td>\n",
       "    </tr>\n",
       "    <tr>\n",
       "      <th>19995</th>\n",
       "      <td>en_0447642</td>\n",
       "      <td>product_en_0068982</td>\n",
       "      <td>reviewer_en_0061521</td>\n",
       "      <td>5</td>\n",
       "      <td>This ribbon is so adorable! Goes perfect with ...</td>\n",
       "      <td>So Cute!</td>\n",
       "      <td>en</td>\n",
       "      <td>home</td>\n",
       "    </tr>\n",
       "    <tr>\n",
       "      <th>19996</th>\n",
       "      <td>en_0950370</td>\n",
       "      <td>product_en_0563046</td>\n",
       "      <td>reviewer_en_0871798</td>\n",
       "      <td>5</td>\n",
       "      <td>I am in love with this kettle.</td>\n",
       "      <td>Perfect</td>\n",
       "      <td>en</td>\n",
       "      <td>kitchen</td>\n",
       "    </tr>\n",
       "    <tr>\n",
       "      <th>19997</th>\n",
       "      <td>en_0203466</td>\n",
       "      <td>product_en_0848682</td>\n",
       "      <td>reviewer_en_0474236</td>\n",
       "      <td>5</td>\n",
       "      <td>My Doberman Loves Having His Nails Trimmed and...</td>\n",
       "      <td>My Doberman Loves Them</td>\n",
       "      <td>en</td>\n",
       "      <td>pet_products</td>\n",
       "    </tr>\n",
       "    <tr>\n",
       "      <th>19998</th>\n",
       "      <td>en_0010627</td>\n",
       "      <td>product_en_0536493</td>\n",
       "      <td>reviewer_en_0546192</td>\n",
       "      <td>5</td>\n",
       "      <td>I love my Fire.. I do everything on it, read, ...</td>\n",
       "      <td>Five Stars</td>\n",
       "      <td>en</td>\n",
       "      <td>other</td>\n",
       "    </tr>\n",
       "    <tr>\n",
       "      <th>19999</th>\n",
       "      <td>en_0290511</td>\n",
       "      <td>product_en_0964853</td>\n",
       "      <td>reviewer_en_0850986</td>\n",
       "      <td>5</td>\n",
       "      <td>A wish I would've ordered one size smaller (I ...</td>\n",
       "      <td>SUPER CUTE!</td>\n",
       "      <td>en</td>\n",
       "      <td>apparel</td>\n",
       "    </tr>\n",
       "  </tbody>\n",
       "</table>\n",
       "<p>20000 rows × 8 columns</p>\n",
       "</div>"
      ],
      "text/plain": [
       "        review_id          product_id          reviewer_id  stars  \\\n",
       "0      fr_0112905  product_fr_0620743  reviewer_fr_0310864      1   \n",
       "1      fr_0345365  product_fr_0942745  reviewer_fr_0244013      1   \n",
       "2      fr_0474170  product_fr_0183830  reviewer_fr_0816879      1   \n",
       "3      fr_0084156  product_fr_0195761  reviewer_fr_0933238      1   \n",
       "4      fr_0893613  product_fr_0077995  reviewer_fr_0492122      1   \n",
       "...           ...                 ...                  ...    ...   \n",
       "19995  en_0447642  product_en_0068982  reviewer_en_0061521      5   \n",
       "19996  en_0950370  product_en_0563046  reviewer_en_0871798      5   \n",
       "19997  en_0203466  product_en_0848682  reviewer_en_0474236      5   \n",
       "19998  en_0010627  product_en_0536493  reviewer_en_0546192      5   \n",
       "19999  en_0290511  product_en_0964853  reviewer_en_0850986      5   \n",
       "\n",
       "                                             review_body  \\\n",
       "0      Colis bien reçus avec le boîtier du jeu ouvert...   \n",
       "1      Suite à une vérification, je vous informe que ...   \n",
       "2      C'est un produit de piètre qualité sur quatre,...   \n",
       "3                     N'ont pas résistés. Piètre qualité   \n",
       "4      Filament de qualité mais pas bien embobiné, ré...   \n",
       "...                                                  ...   \n",
       "19995  This ribbon is so adorable! Goes perfect with ...   \n",
       "19996                     I am in love with this kettle.   \n",
       "19997  My Doberman Loves Having His Nails Trimmed and...   \n",
       "19998  I love my Fire.. I do everything on it, read, ...   \n",
       "19999  A wish I would've ordered one size smaller (I ...   \n",
       "\n",
       "                                            review_title language  \\\n",
       "0      Commandé ailleurs si vous voulez des colis com...       fr   \n",
       "1                                     COMMANDE NON RECUE       fr   \n",
       "2                     Plastique sans aucune résistance !       fr   \n",
       "3                                   séparateur d'orteils       fr   \n",
       "4              ça coince, ça coince... que des problemes       fr   \n",
       "...                                                  ...      ...   \n",
       "19995                                           So Cute!       en   \n",
       "19996                                            Perfect       en   \n",
       "19997                             My Doberman Loves Them       en   \n",
       "19998                                         Five Stars       en   \n",
       "19999                                        SUPER CUTE!       en   \n",
       "\n",
       "          product_category  \n",
       "0              video_games  \n",
       "1           office_product  \n",
       "2               automotive  \n",
       "3                   sports  \n",
       "4      industrial_supplies  \n",
       "...                    ...  \n",
       "19995                 home  \n",
       "19996              kitchen  \n",
       "19997         pet_products  \n",
       "19998                other  \n",
       "19999              apparel  \n",
       "\n",
       "[20000 rows x 8 columns]"
      ]
     },
     "execution_count": 45,
     "metadata": {},
     "output_type": "execute_result"
    }
   ],
   "source": [
    "#loading development datasets and concatenating them\n",
    "dev_de = pd.read_json(\"dataset_de_dev.json\", lines=True)\n",
    "dev_es = pd.read_json(\"dataset_es_dev.json\", lines=True)\n",
    "dev_en = pd.read_json(\"dataset_en_dev.json\", lines=True)\n",
    "dev_fr = pd.read_json(\"dataset_fr_dev.json\", lines=True)\n",
    "dev= pd.concat([dev_fr, dev_es, dev_de, dev_en], axis=0)\n",
    "dev.reset_index(drop=True, inplace=True)\n",
    "dev"
   ]
  },
  {
   "cell_type": "code",
   "execution_count": 47,
   "metadata": {},
   "outputs": [],
   "source": [
    "#loading the test data set\n",
    "test=pd.read_excel('test.xlsx')"
   ]
  },
  {
   "cell_type": "code",
   "execution_count": 46,
   "metadata": {},
   "outputs": [],
   "source": [
    "#resetting the index for the data frame\n",
    "train_df.reset_index(drop=True, inplace=True)"
   ]
  },
  {
   "cell_type": "code",
   "execution_count": 48,
   "metadata": {},
   "outputs": [
    {
     "data": {
      "text/plain": [
       "array([0, 1, 2, 3])"
      ]
     },
     "execution_count": 48,
     "metadata": {},
     "output_type": "execute_result"
    }
   ],
   "source": [
    "#one-hot encoding the target variable\n",
    "label_encoder = preprocessing.LabelEncoder()\n",
    "labels = label_encoder.fit_transform(train_df.language.values)\n",
    "labels1=label_encoder.fit_transform(test.language.values)\n",
    "labels3=label_encoder.fit_transform(dev.language.values)\n",
    "np.unique(labels3)"
   ]
  },
  {
   "cell_type": "code",
   "execution_count": 49,
   "metadata": {},
   "outputs": [],
   "source": [
    "#setting the test, train and val values\n",
    "X_train=train_df.new\n",
    "X_test=test.review_body\n",
    "X_val=dev.review_body\n",
    "y_train=labels\n",
    "y_test=labels1\n",
    "y_val=labels3"
   ]
  },
  {
   "cell_type": "code",
   "execution_count": 50,
   "metadata": {},
   "outputs": [],
   "source": [
    "#setting the maximum size and maximum length\n",
    "VOCABULARY_SIZE = 1000000\n",
    "MAX_LENGTH = 200"
   ]
  },
  {
   "cell_type": "code",
   "execution_count": 51,
   "metadata": {},
   "outputs": [],
   "source": [
    "#tokenizing\n",
    "tokenizer = Tokenizer(num_words=VOCABULARY_SIZE)\n",
    "tokenizer.fit_on_texts(list(X_train) + list(X_test)+ list(X_val))\n",
    "\n",
    "xtrain_sequence = tokenizer.texts_to_sequences(X_train)\n",
    "xtest_sequence = tokenizer.texts_to_sequences(X_test)\n",
    "xval_sequence = tokenizer.texts_to_sequences(X_val)"
   ]
  },
  {
   "cell_type": "code",
   "execution_count": 52,
   "metadata": {},
   "outputs": [],
   "source": [
    "#padding\n",
    "xtrain_padding = pad_sequences(xtrain_sequence, maxlen=MAX_LENGTH)\n",
    "xtest_padding = pad_sequences(xtest_sequence, maxlen=MAX_LENGTH)\n",
    "xval_padding = pad_sequences(xval_sequence, maxlen=MAX_LENGTH)\n",
    "#word_index = tokenizer.word_index"
   ]
  },
  {
   "cell_type": "code",
   "execution_count": 53,
   "metadata": {},
   "outputs": [],
   "source": [
    "#creating a matrix\n",
    "ytrain_encode = np_utils.to_categorical(y_train)\n",
    "ytest_encode = np_utils.to_categorical(y_test)\n",
    "yval_encode = np_utils.to_categorical(y_val)"
   ]
  },
  {
   "cell_type": "code",
   "execution_count": 12,
   "metadata": {},
   "outputs": [],
   "source": [
    "# creating abidirectional LSTM model\n",
    "model_st_m = Sequential()\n",
    "#embedding layer\n",
    "model_st_m.add(Embedding(1000000,8,input_length=MAX_LENGTH))\n",
    "model_st_m.add(Bidirectional(LSTM(100)))\n",
    "model_st_m.add(Dense(4))\n",
    "model_st_m.add(Activation('softmax'))\n",
    "model_st_m.compile(loss='categorical_crossentropy', optimizer='adam', metrics=['accuracy'])"
   ]
  },
  {
   "cell_type": "code",
   "execution_count": 13,
   "metadata": {},
   "outputs": [
    {
     "name": "stdout",
     "output_type": "stream",
     "text": [
      "Epoch 1/12\n",
      "185/185 [==============================] - 1453s 8s/step - loss: 0.6370 - accuracy: 0.7651 - val_loss: 0.1425 - val_accuracy: 0.9586\n",
      "Epoch 2/12\n",
      "185/185 [==============================] - 1432s 8s/step - loss: 0.1631 - accuracy: 0.9657 - val_loss: 0.0386 - val_accuracy: 0.9947\n",
      "Epoch 3/12\n",
      "185/185 [==============================] - 1494s 8s/step - loss: 0.0233 - accuracy: 0.9972 - val_loss: 0.0159 - val_accuracy: 0.9978\n",
      "Epoch 4/12\n",
      "185/185 [==============================] - 1504s 8s/step - loss: 0.0130 - accuracy: 0.9983 - val_loss: 0.0118 - val_accuracy: 0.9978\n",
      "Epoch 5/12\n",
      "185/185 [==============================] - 1415s 8s/step - loss: 0.0074 - accuracy: 0.9991 - val_loss: 0.0070 - val_accuracy: 0.9990\n",
      "Epoch 6/12\n",
      "185/185 [==============================] - 1380s 7s/step - loss: 0.0047 - accuracy: 0.9995 - val_loss: 0.0052 - val_accuracy: 0.9992\n",
      "Epoch 7/12\n",
      "185/185 [==============================] - 1379s 7s/step - loss: 0.0033 - accuracy: 0.9997 - val_loss: 0.0041 - val_accuracy: 0.9993\n",
      "Epoch 8/12\n",
      "185/185 [==============================] - 1388s 8s/step - loss: 0.0024 - accuracy: 0.9998 - val_loss: 0.0034 - val_accuracy: 0.9993\n",
      "Epoch 9/12\n",
      "185/185 [==============================] - 1389s 8s/step - loss: 0.0019 - accuracy: 0.9998 - val_loss: 0.0029 - val_accuracy: 0.9994\n",
      "Epoch 10/12\n",
      "185/185 [==============================] - 1405s 8s/step - loss: 0.0015 - accuracy: 0.9999 - val_loss: 0.0026 - val_accuracy: 0.9995\n",
      "Epoch 11/12\n",
      "185/185 [==============================] - 1380s 7s/step - loss: 0.0012 - accuracy: 0.9999 - val_loss: 0.0023 - val_accuracy: 0.9995\n",
      "Epoch 12/12\n",
      "185/185 [==============================] - 1358s 7s/step - loss: 9.3437e-04 - accuracy: 1.0000 - val_loss: 0.0021 - val_accuracy: 0.9995\n"
     ]
    }
   ],
   "source": [
    "history_st_m = model_st_m.fit(xtrain_padding, y=ytrain_encode, batch_size=4000, epochs=12, verbose=1, validation_data=(xval_padding, yval_encode))\n"
   ]
  },
  {
   "cell_type": "code",
   "execution_count": 58,
   "metadata": {},
   "outputs": [
    {
     "name": "stdout",
     "output_type": "stream",
     "text": [
      "625/625 [==============================] - 16s 26ms/step - loss: 0.0089 - accuracy: 0.9994\n",
      "Test accuracy: 0.9993500113487244\n"
     ]
    }
   ],
   "source": [
    "#using test set to compare against validation set and see if any overfitting occurs.\n",
    "test_loss, test_acc = model_st_m.evaluate(xtest_padding, ytest_encode)\n",
    "print('Test accuracy:', test_acc)"
   ]
  },
  {
   "cell_type": "code",
   "execution_count": 56,
   "metadata": {},
   "outputs": [],
   "source": [
    "y_pred=model_st_m.predict(xtest_padding)\n",
    "y_pred =(y_pred>0.5)"
   ]
  },
  {
   "cell_type": "code",
   "execution_count": 59,
   "metadata": {},
   "outputs": [],
   "source": [
    "training_loss = history_st_m.history['loss']\n",
    "test_loss = history_st_m.history['val_loss']"
   ]
  },
  {
   "cell_type": "code",
   "execution_count": 60,
   "metadata": {},
   "outputs": [
    {
     "data": {
      "image/png": "[encoded data removed]",
      "text/plain": [
       "<Figure size 432x288 with 1 Axes>"
      ]
     },
     "metadata": {
      "needs_background": "light"
     },
     "output_type": "display_data"
    }
   ],
   "source": [
    "import matplotlib.pyplot as plt\n",
    "#plotting the loss\n",
    "epoch_count = range(1,len(training_loss) +1)\n",
    "plt.plot(epoch_count, training_loss, 'r--')\n",
    "plt.plot(epoch_count, test_loss,'b-')\n",
    "plt.legend(['Training loss', 'Val loss'])\n",
    "plt.xlabel('epoch')\n",
    "plt.ylabel('Loss')\n",
    "plt.show();"
   ]
  },
  {
   "cell_type": "code",
   "execution_count": 61,
   "metadata": {},
   "outputs": [
    {
     "data": {
      "image/png": "[encoded data removed]",
      "text/plain": [
       "<Figure size 432x288 with 1 Axes>"
      ]
     },
     "metadata": {
      "needs_background": "light"
     },
     "output_type": "display_data"
    }
   ],
   "source": [
    "#plotting the accuracy\n",
    "def plot_metric(history, metric):\n",
    "    train_metrics = history.history[metric]\n",
    "    val_metrics = history.history['val_'+metric]\n",
    "    epochs = range(1, len(train_metrics) + 1)\n",
    "    plt.plot(epochs, train_metrics)\n",
    "    plt.plot(epochs, val_metrics)\n",
    "    plt.title('Training and validation '+ metric)\n",
    "    plt.xlabel(\"Epochs\")\n",
    "    plt.ylabel(metric)\n",
    "    plt.legend([\"train_\"+metric, 'val_'+metric])\n",
    "    plt.show()\n",
    "plot_metric(history_st_m, 'accuracy')"
   ]
  },
  {
   "cell_type": "code",
   "execution_count": 63,
   "metadata": {},
   "outputs": [],
   "source": [
    "#loading long Europarl sample\n",
    "formal_large=pd.read_excel('formal_large.xlsx')"
   ]
  },
  {
   "cell_type": "code",
   "execution_count": null,
   "metadata": {},
   "outputs": [],
   "source": [
    "#Europarl truncated\n",
    "formal_short_nostop=pd.read_excel('formal_nostop.xlsx')\n",
    "formal_short_nostop.head()"
   ]
  },
  {
   "cell_type": "code",
   "execution_count": 65,
   "metadata": {},
   "outputs": [],
   "source": [
    "#loading short TED Talks sample\n",
    "functional=pd.read_excel('functional_words.xlsx')\n",
    "functional=functional[functional['text'].str.split().str.len().ge(2)]\n",
    "functional= functional[functional['text'].notnull()]\n",
    "\n",
    "functional.reset_index(drop=True, inplace=True)"
   ]
  },
  {
   "cell_type": "code",
   "execution_count": 66,
   "metadata": {},
   "outputs": [],
   "source": [
    "#loading long TED Talks sample\n",
    "ted_talk_full=pd.read_excel('tedtalk_full_large.xlsx')\n",
    "ted_talk_full=ted_talk_full[ted_talk_full['text'].str.split().str.len().ge(4)]\n",
    "ted_talk_full= ted_talk_full[ted_talk_full['text'].notnull()]\n",
    "ted_talk_full.reset_index(drop=True, inplace=True)"
   ]
  },
  {
   "cell_type": "code",
   "execution_count": 67,
   "metadata": {},
   "outputs": [],
   "source": [
    "#accuracy for long formal sample Europarl\n",
    "from sklearn import metrics\n",
    "tokenizer.fit_on_texts(formal_large.txt)\n",
    "tokens_sequence = tokenizer.texts_to_sequences(formal_large.txt)\n",
    "tokens_padding = pad_sequences(tokens_sequence, maxlen=200)\n",
    "y_predict_new = (model_st_m.predict(tokens_padding)>0.5).astype('int32')\n",
    "#y_predict =(y_pred>0.5)\n",
    "y_predict_new=np.argmax(y_predict_new,1)\n",
    "langs=label_encoder.inverse_transform(y_predict_new)\n",
    "first_tuple_elements = []\n",
    "for lang in langs:\n",
    "    first_tuple_elements.append(lang)\n",
    "score3=metrics.accuracy_score(formal_large.lang,first_tuple_elements)"
   ]
  },
  {
   "cell_type": "code",
   "execution_count": 68,
   "metadata": {},
   "outputs": [
    {
     "data": {
      "text/plain": [
       "0.31353311023222796"
      ]
     },
     "execution_count": 68,
     "metadata": {},
     "output_type": "execute_result"
    }
   ],
   "source": [
    "score3"
   ]
  },
  {
   "cell_type": "code",
   "execution_count": 70,
   "metadata": {},
   "outputs": [],
   "source": [
    "#accuracy for short formal sample Europarl\n",
    "from sklearn import metrics\n",
    "tokenizer.fit_on_texts(formal_short_nostop.txt)\n",
    "tokens_sequence = tokenizer.texts_to_sequences(formal_short_nostop.txt)\n",
    "tokens_padding = pad_sequences(tokens_sequence, maxlen=200)\n",
    "y_predict_new = (model_st_m.predict(tokens_padding)>0.5).astype('int32')\n",
    "#y_predict =(y_pred>0.5)\n",
    "y_predict_new=np.argmax(y_predict_new,1)\n",
    "langs=label_encoder.inverse_transform(y_predict_new)\n",
    "first_tuple_elements = []\n",
    "for lang in langs:\n",
    "    first_tuple_elements.append(lang)\n",
    "score3=metrics.accuracy_score(formal_short_nostop.lang,first_tuple_elements)"
   ]
  },
  {
   "cell_type": "code",
   "execution_count": 71,
   "metadata": {},
   "outputs": [
    {
     "data": {
      "text/plain": [
       "0.2615254326999418"
      ]
     },
     "execution_count": 71,
     "metadata": {},
     "output_type": "execute_result"
    }
   ],
   "source": [
    "score3"
   ]
  },
  {
   "cell_type": "code",
   "execution_count": 72,
   "metadata": {},
   "outputs": [],
   "source": [
    "#accuracy for short TED Talks sample\n",
    "from sklearn import metrics\n",
    "tokenizer.fit_on_texts(functional.text)\n",
    "tokens_sequence = tokenizer.texts_to_sequences(functional.text)\n",
    "tokens_padding = pad_sequences(tokens_sequence, maxlen=MAX_LENGTH)\n",
    "y_predict_new = (model_st_m.predict(tokens_padding)>0.5).astype('int32')\n",
    "#y_predict =(y_pred>0.5)\n",
    "y_predict_new=np.argmax(y_predict_new,1)\n",
    "langs=label_encoder.inverse_transform(y_predict_new)\n",
    "score5=metrics.accuracy_score(functional.lang,langs)"
   ]
  },
  {
   "cell_type": "code",
   "execution_count": 73,
   "metadata": {},
   "outputs": [
    {
     "data": {
      "text/plain": [
       "0.2863102974138743"
      ]
     },
     "execution_count": 73,
     "metadata": {},
     "output_type": "execute_result"
    }
   ],
   "source": [
    "score5"
   ]
  },
  {
   "cell_type": "code",
   "execution_count": 74,
   "metadata": {},
   "outputs": [],
   "source": [
    "#Accuracy for long TED Talks sample\n",
    "tokenizer.fit_on_texts(ted_talk_full.text)\n",
    "tokens_sequence = tokenizer.texts_to_sequences(ted_talk_full.text)\n",
    "tokens_padding = pad_sequences(tokens_sequence, maxlen=MAX_LENGTH)\n",
    "y_predict_new = (model_st_m.predict(tokens_padding)>0.3).astype('int32')\n",
    "#y_predict =(y_pred>0.5)\n",
    "y_predict_new=np.argmax(y_predict_new,1)\n",
    "langs=label_encoder.inverse_transform(y_predict_new)\n",
    "score6=metrics.accuracy_score(ted_talk_full.lang,langs)\n",
    "#y_new=model_s.predict_classes(tokens_padding)"
   ]
  },
  {
   "cell_type": "code",
   "execution_count": 75,
   "metadata": {},
   "outputs": [
    {
     "data": {
      "text/plain": [
       "0.29752651884307774"
      ]
     },
     "execution_count": 75,
     "metadata": {},
     "output_type": "execute_result"
    }
   ],
   "source": [
    "score6"
   ]
  },
  {
   "cell_type": "code",
   "execution_count": null,
   "metadata": {},
   "outputs": [],
   "source": []
  }
 ],
 "metadata": {
  "kernelspec": {
   "display_name": "Python 3",
   "language": "python",
   "name": "python3"
  },
  "language_info": {
   "codemirror_mode": {
    "name": "ipython",
    "version": 3
   },
   "file_extension": ".py",
   "mimetype": "text/x-python",
   "name": "python",
   "nbconvert_exporter": "python",
   "pygments_lexer": "ipython3",
   "version": "3.7.6"
  }
 },
 "nbformat": 4,
 "nbformat_minor": 4
}
